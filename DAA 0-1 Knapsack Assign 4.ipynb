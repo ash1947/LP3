{
 "cells": [
  {
   "cell_type": "markdown",
   "id": "b05aef3a",
   "metadata": {},
   "source": [
    "# Assignment 4"
   ]
  },
  {
   "cell_type": "markdown",
   "id": "672982b2",
   "metadata": {},
   "source": [
    "## Program to solve a 0-1 Knapsack problem using dynamic programming or branch and bound strategy"
   ]
  },
  {
   "cell_type": "code",
   "execution_count": 1,
   "id": "294e669b",
   "metadata": {},
   "outputs": [
    {
     "ename": "ValueError",
     "evalue": "invalid literal for int() with base 10: ''",
     "output_type": "error",
     "traceback": [
      "\u001b[1;31m---------------------------------------------------------------------------\u001b[0m",
      "\u001b[1;31mValueError\u001b[0m                                Traceback (most recent call last)",
      "\u001b[1;32md:\\Engineering\\8th Sem\\LP 3\\Assignment 4(Dynamic).ipynb Cell 3\u001b[0m in \u001b[0;36m3\n\u001b[0;32m     <a href='vscode-notebook-cell:/d%3A/Engineering/8th%20Sem/LP%203/Assignment%204%28Dynamic%29.ipynb#W2sZmlsZQ%3D%3D?line=31'>32</a>\u001b[0m     \u001b[39mreturn\u001b[39;00m lst\n\u001b[0;32m     <a href='vscode-notebook-cell:/d%3A/Engineering/8th%20Sem/LP%203/Assignment%204%28Dynamic%29.ipynb#W2sZmlsZQ%3D%3D?line=33'>34</a>\u001b[0m \u001b[39m# Driver code\u001b[39;00m\n\u001b[0;32m     <a href='vscode-notebook-cell:/d%3A/Engineering/8th%20Sem/LP%203/Assignment%204%28Dynamic%29.ipynb#W2sZmlsZQ%3D%3D?line=34'>35</a>\u001b[0m \u001b[39m#val = [60, 100, 120]\u001b[39;00m\n\u001b[1;32m---> <a href='vscode-notebook-cell:/d%3A/Engineering/8th%20Sem/LP%203/Assignment%204%28Dynamic%29.ipynb#W2sZmlsZQ%3D%3D?line=35'>36</a>\u001b[0m val \u001b[39m=\u001b[39m InputList()\n\u001b[0;32m     <a href='vscode-notebook-cell:/d%3A/Engineering/8th%20Sem/LP%203/Assignment%204%28Dynamic%29.ipynb#W2sZmlsZQ%3D%3D?line=36'>37</a>\u001b[0m \u001b[39m#wt = [10, 20, 30]\u001b[39;00m\n\u001b[0;32m     <a href='vscode-notebook-cell:/d%3A/Engineering/8th%20Sem/LP%203/Assignment%204%28Dynamic%29.ipynb#W2sZmlsZQ%3D%3D?line=37'>38</a>\u001b[0m wt \u001b[39m=\u001b[39m InputList()\n",
      "\u001b[1;32md:\\Engineering\\8th Sem\\LP 3\\Assignment 4(Dynamic).ipynb Cell 3\u001b[0m in \u001b[0;36m2\n\u001b[0;32m     <a href='vscode-notebook-cell:/d%3A/Engineering/8th%20Sem/LP%203/Assignment%204%28Dynamic%29.ipynb#W2sZmlsZQ%3D%3D?line=23'>24</a>\u001b[0m \u001b[39mdef\u001b[39;00m \u001b[39mInputList\u001b[39m():\n\u001b[0;32m     <a href='vscode-notebook-cell:/d%3A/Engineering/8th%20Sem/LP%203/Assignment%204%28Dynamic%29.ipynb#W2sZmlsZQ%3D%3D?line=24'>25</a>\u001b[0m     lst \u001b[39m=\u001b[39m []\n\u001b[1;32m---> <a href='vscode-notebook-cell:/d%3A/Engineering/8th%20Sem/LP%203/Assignment%204%28Dynamic%29.ipynb#W2sZmlsZQ%3D%3D?line=25'>26</a>\u001b[0m     n \u001b[39m=\u001b[39m \u001b[39mint\u001b[39;49m(\u001b[39minput\u001b[39;49m(\u001b[39m\"\u001b[39;49m\u001b[39mEnter number of elements : \u001b[39;49m\u001b[39m\"\u001b[39;49m))\n\u001b[0;32m     <a href='vscode-notebook-cell:/d%3A/Engineering/8th%20Sem/LP%203/Assignment%204%28Dynamic%29.ipynb#W2sZmlsZQ%3D%3D?line=27'>28</a>\u001b[0m     \u001b[39mfor\u001b[39;00m i \u001b[39min\u001b[39;00m \u001b[39mrange\u001b[39m(\u001b[39m0\u001b[39m, n):\n\u001b[0;32m     <a href='vscode-notebook-cell:/d%3A/Engineering/8th%20Sem/LP%203/Assignment%204%28Dynamic%29.ipynb#W2sZmlsZQ%3D%3D?line=28'>29</a>\u001b[0m         ele \u001b[39m=\u001b[39m \u001b[39mint\u001b[39m(\u001b[39minput\u001b[39m())\n",
      "\u001b[1;31mValueError\u001b[0m: invalid literal for int() with base 10: ''"
     ]
    }
   ],
   "source": [
    "# A Dynamic Programming based Python\n",
    "# Program for 0-1 Knapsack problem\n",
    "# Returns the maximum value that can\n",
    "# be put in a knapsack of capacity W\n",
    " \n",
    "\n",
    "def knapSack(W, wt, val, n):\n",
    "    K = [[0 for x in range(W + 1)] for x in range(n + 1)]\n",
    " \n",
    "    # Build table K[][] in bottom up manner\n",
    "    for i in range(n + 1):\n",
    "        for w in range(W + 1):\n",
    "            if i == 0 or w == 0:\n",
    "                K[i][w] = 0\n",
    "            elif wt[i-1] <= w:\n",
    "                K[i][w] = max(val[i-1]\n",
    "                          + K[i-1][w-wt[i-1]], \n",
    "                              K[i-1][w])\n",
    "            else:\n",
    "                K[i][w] = K[i-1][w]\n",
    " \n",
    "    return K[n][W]\n",
    " \n",
    "def InputList():\n",
    "    lst = []\n",
    "    n = int(input(\"Enter number of elements : \"))\n",
    "\n",
    "    for i in range(0, n):\n",
    "        ele = int(input())\n",
    "        lst.append(ele) \n",
    "    \n",
    "    return lst\n",
    "\n",
    "# Driver code\n",
    "#val = [60, 100, 120]\n",
    "val = InputList()\n",
    "#wt = [10, 20, 30]\n",
    "wt = InputList()\n",
    "#W = 50\n",
    "W = int(input(\"Enter the capacity: \"))\n",
    "n = len(val)\n",
    "print(knapSack(W, wt, val, n))\n"
   ]
  },
  {
   "cell_type": "code",
   "execution_count": null,
   "id": "1137bab1",
   "metadata": {},
   "outputs": [],
   "source": []
  }
 ],
 "metadata": {
  "kernelspec": {
   "display_name": "Python 3 (ipykernel)",
   "language": "python",
   "name": "python3"
  },
  "language_info": {
   "codemirror_mode": {
    "name": "ipython",
    "version": 3
   },
   "file_extension": ".py",
   "mimetype": "text/x-python",
   "name": "python",
   "nbconvert_exporter": "python",
   "pygments_lexer": "ipython3",
   "version": "3.10.8"
  }
 },
 "nbformat": 4,
 "nbformat_minor": 5
}
